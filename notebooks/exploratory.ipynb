{
 "cells": [
  {
   "cell_type": "code",
   "execution_count": 9,
   "metadata": {},
   "outputs": [],
   "source": [
    "import pandas as pd\n",
    "import seaborn as sns\n",
    "from pandas_datareader import data as pdr\n",
    "import mplfinance as mpf"
   ]
  },
  {
   "cell_type": "code",
   "execution_count": 28,
   "metadata": {},
   "outputs": [],
   "source": [
    "df = pd.read_csv('../data/EURUSD_ForexTrading_4hrs_05.05.2003_to_16.10.2021.csv')"
   ]
  },
  {
   "cell_type": "code",
   "execution_count": 29,
   "metadata": {},
   "outputs": [
    {
     "data": {
      "text/html": [
       "<div>\n",
       "<style scoped>\n",
       "    .dataframe tbody tr th:only-of-type {\n",
       "        vertical-align: middle;\n",
       "    }\n",
       "\n",
       "    .dataframe tbody tr th {\n",
       "        vertical-align: top;\n",
       "    }\n",
       "\n",
       "    .dataframe thead th {\n",
       "        text-align: right;\n",
       "    }\n",
       "</style>\n",
       "<table border=\"1\" class=\"dataframe\">\n",
       "  <thead>\n",
       "    <tr style=\"text-align: right;\">\n",
       "      <th></th>\n",
       "      <th>Gmt time</th>\n",
       "      <th>open</th>\n",
       "      <th>high</th>\n",
       "      <th>low</th>\n",
       "      <th>close</th>\n",
       "      <th>volume</th>\n",
       "    </tr>\n",
       "  </thead>\n",
       "  <tbody>\n",
       "    <tr>\n",
       "      <th>0</th>\n",
       "      <td>04.05.2003 21:00:00.000</td>\n",
       "      <td>1.12354</td>\n",
       "      <td>1.12354</td>\n",
       "      <td>1.12166</td>\n",
       "      <td>1.12274</td>\n",
       "      <td>95533.0976</td>\n",
       "    </tr>\n",
       "    <tr>\n",
       "      <th>1</th>\n",
       "      <td>05.05.2003 01:00:00.000</td>\n",
       "      <td>1.12242</td>\n",
       "      <td>1.12276</td>\n",
       "      <td>1.12067</td>\n",
       "      <td>1.12126</td>\n",
       "      <td>93778.5996</td>\n",
       "    </tr>\n",
       "    <tr>\n",
       "      <th>2</th>\n",
       "      <td>05.05.2003 05:00:00.000</td>\n",
       "      <td>1.12139</td>\n",
       "      <td>1.12255</td>\n",
       "      <td>1.12030</td>\n",
       "      <td>1.12113</td>\n",
       "      <td>90924.6992</td>\n",
       "    </tr>\n",
       "    <tr>\n",
       "      <th>3</th>\n",
       "      <td>05.05.2003 09:00:00.000</td>\n",
       "      <td>1.12092</td>\n",
       "      <td>1.12331</td>\n",
       "      <td>1.12049</td>\n",
       "      <td>1.12174</td>\n",
       "      <td>91254.6992</td>\n",
       "    </tr>\n",
       "    <tr>\n",
       "      <th>4</th>\n",
       "      <td>05.05.2003 13:00:00.000</td>\n",
       "      <td>1.12194</td>\n",
       "      <td>1.12900</td>\n",
       "      <td>1.12130</td>\n",
       "      <td>1.12712</td>\n",
       "      <td>308003.4083</td>\n",
       "    </tr>\n",
       "  </tbody>\n",
       "</table>\n",
       "</div>"
      ],
      "text/plain": [
       "                  Gmt time     open     high      low    close       volume\n",
       "0  04.05.2003 21:00:00.000  1.12354  1.12354  1.12166  1.12274   95533.0976\n",
       "1  05.05.2003 01:00:00.000  1.12242  1.12276  1.12067  1.12126   93778.5996\n",
       "2  05.05.2003 05:00:00.000  1.12139  1.12255  1.12030  1.12113   90924.6992\n",
       "3  05.05.2003 09:00:00.000  1.12092  1.12331  1.12049  1.12174   91254.6992\n",
       "4  05.05.2003 13:00:00.000  1.12194  1.12900  1.12130  1.12712  308003.4083"
      ]
     },
     "execution_count": 29,
     "metadata": {},
     "output_type": "execute_result"
    }
   ],
   "source": [
    "df.head()"
   ]
  },
  {
   "cell_type": "markdown",
   "metadata": {},
   "source": [
    "#### Check for correct datatypes and missing data "
   ]
  },
  {
   "cell_type": "markdown",
   "metadata": {},
   "source": [
    "mpf.plot(df, 'candle')"
   ]
  },
  {
   "cell_type": "code",
   "execution_count": 8,
   "metadata": {},
   "outputs": [
    {
     "name": "stdout",
     "output_type": "stream",
     "text": [
      "<class 'pandas.core.frame.DataFrame'>\n",
      "RangeIndex: 28860 entries, 0 to 28859\n",
      "Data columns (total 6 columns):\n",
      " #   Column    Non-Null Count  Dtype  \n",
      "---  ------    --------------  -----  \n",
      " 0   Gmt time  28860 non-null  object \n",
      " 1   open      28860 non-null  float64\n",
      " 2   high      28860 non-null  float64\n",
      " 3   low       28860 non-null  float64\n",
      " 4   close     28860 non-null  float64\n",
      " 5   volume    28860 non-null  float64\n",
      "dtypes: float64(5), object(1)\n",
      "memory usage: 1.3+ MB\n"
     ]
    }
   ],
   "source": [
    "# There are no missing values in the dataset.\n",
    "df.info() "
   ]
  },
  {
   "cell_type": "code",
   "execution_count": 30,
   "metadata": {},
   "outputs": [],
   "source": [
    "# change the index to DateTime\n",
    "df.set_index('Gmt time', inplace=True)"
   ]
  },
  {
   "cell_type": "code",
   "execution_count": 31,
   "metadata": {},
   "outputs": [],
   "source": [
    "df.index = pd.to_datetime(df.index, format=\"%d.%m.%Y %H:%M:%S.%f\")"
   ]
  },
  {
   "cell_type": "code",
   "execution_count": 32,
   "metadata": {},
   "outputs": [
    {
     "data": {
      "text/html": [
       "<div>\n",
       "<style scoped>\n",
       "    .dataframe tbody tr th:only-of-type {\n",
       "        vertical-align: middle;\n",
       "    }\n",
       "\n",
       "    .dataframe tbody tr th {\n",
       "        vertical-align: top;\n",
       "    }\n",
       "\n",
       "    .dataframe thead th {\n",
       "        text-align: right;\n",
       "    }\n",
       "</style>\n",
       "<table border=\"1\" class=\"dataframe\">\n",
       "  <thead>\n",
       "    <tr style=\"text-align: right;\">\n",
       "      <th></th>\n",
       "      <th>open</th>\n",
       "      <th>high</th>\n",
       "      <th>low</th>\n",
       "      <th>close</th>\n",
       "      <th>volume</th>\n",
       "    </tr>\n",
       "    <tr>\n",
       "      <th>Gmt time</th>\n",
       "      <th></th>\n",
       "      <th></th>\n",
       "      <th></th>\n",
       "      <th></th>\n",
       "      <th></th>\n",
       "    </tr>\n",
       "  </thead>\n",
       "  <tbody>\n",
       "    <tr>\n",
       "      <th>2003-05-04 21:00:00</th>\n",
       "      <td>1.12354</td>\n",
       "      <td>1.12354</td>\n",
       "      <td>1.12166</td>\n",
       "      <td>1.12274</td>\n",
       "      <td>95533.0976</td>\n",
       "    </tr>\n",
       "    <tr>\n",
       "      <th>2003-05-05 01:00:00</th>\n",
       "      <td>1.12242</td>\n",
       "      <td>1.12276</td>\n",
       "      <td>1.12067</td>\n",
       "      <td>1.12126</td>\n",
       "      <td>93778.5996</td>\n",
       "    </tr>\n",
       "    <tr>\n",
       "      <th>2003-05-05 05:00:00</th>\n",
       "      <td>1.12139</td>\n",
       "      <td>1.12255</td>\n",
       "      <td>1.12030</td>\n",
       "      <td>1.12113</td>\n",
       "      <td>90924.6992</td>\n",
       "    </tr>\n",
       "    <tr>\n",
       "      <th>2003-05-05 09:00:00</th>\n",
       "      <td>1.12092</td>\n",
       "      <td>1.12331</td>\n",
       "      <td>1.12049</td>\n",
       "      <td>1.12174</td>\n",
       "      <td>91254.6992</td>\n",
       "    </tr>\n",
       "    <tr>\n",
       "      <th>2003-05-05 13:00:00</th>\n",
       "      <td>1.12194</td>\n",
       "      <td>1.12900</td>\n",
       "      <td>1.12130</td>\n",
       "      <td>1.12712</td>\n",
       "      <td>308003.4083</td>\n",
       "    </tr>\n",
       "  </tbody>\n",
       "</table>\n",
       "</div>"
      ],
      "text/plain": [
       "                        open     high      low    close       volume\n",
       "Gmt time                                                            \n",
       "2003-05-04 21:00:00  1.12354  1.12354  1.12166  1.12274   95533.0976\n",
       "2003-05-05 01:00:00  1.12242  1.12276  1.12067  1.12126   93778.5996\n",
       "2003-05-05 05:00:00  1.12139  1.12255  1.12030  1.12113   90924.6992\n",
       "2003-05-05 09:00:00  1.12092  1.12331  1.12049  1.12174   91254.6992\n",
       "2003-05-05 13:00:00  1.12194  1.12900  1.12130  1.12712  308003.4083"
      ]
     },
     "execution_count": 32,
     "metadata": {},
     "output_type": "execute_result"
    }
   ],
   "source": [
    "df.head()"
   ]
  },
  {
   "cell_type": "code",
   "execution_count": 35,
   "metadata": {},
   "outputs": [
    {
     "data": {
      "text/plain": [
       "pandas._libs.tslibs.timestamps.Timestamp"
      ]
     },
     "execution_count": 35,
     "metadata": {},
     "output_type": "execute_result"
    }
   ],
   "source": [
    "type(df.index[1])"
   ]
  },
  {
   "cell_type": "code",
   "execution_count": 37,
   "metadata": {},
   "outputs": [
    {
     "data": {
      "image/png": "[encoded data removed]",
      "text/plain": [
       "<Figure size 800x575 with 2 Axes>"
      ]
     },
     "metadata": {},
     "output_type": "display_data"
    }
   ],
   "source": [
    "# start with looking at a slice of the data by ploting a candlestick chart\n",
    "mpf.plot(df.iloc[0:50], type='candle', style='charles', volume=False)"
   ]
  },
  {
   "cell_type": "code",
   "execution_count": null,
   "metadata": {},
   "outputs": [],
   "source": []
  }
 ],
 "metadata": {
  "kernelspec": {
   "display_name": "venv",
   "language": "python",
   "name": "python3"
  },
  "language_info": {
   "codemirror_mode": {
    "name": "ipython",
    "version": 3
   },
   "file_extension": ".py",
   "mimetype": "text/x-python",
   "name": "python",
   "nbconvert_exporter": "python",
   "pygments_lexer": "ipython3",
   "version": "3.10.5"
  }
 },
 "nbformat": 4,
 "nbformat_minor": 2
}
